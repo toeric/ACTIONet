{
 "cells": [
  {
   "cell_type": "code",
   "execution_count": 1,
   "metadata": {},
   "outputs": [],
   "source": [
    "import numpy as np\n",
    "import pandas as pd \n",
    "import seaborn as sns"
   ]
  },
  {
   "cell_type": "code",
   "execution_count": 59,
   "metadata": {},
   "outputs": [],
   "source": [
    "archetype_num = 23\n",
    "genes_num = 16460"
   ]
  },
  {
   "cell_type": "code",
   "execution_count": null,
   "metadata": {},
   "outputs": [],
   "source": [
    "f = open(\"../gene_exp_k=30.txt\")\n",
    "data = f.readlines()\n",
    "f.close()"
   ]
  },
  {
   "cell_type": "code",
   "execution_count": null,
   "metadata": {},
   "outputs": [],
   "source": [
    "clean_data = np.zeros((archetype_num, genes_num))\n",
    "for i in range(1, genes_num+1):\n",
    "    tmp = data[i].replace('\\n','').split(\" \")\n",
    "    for j in range(1, archetype_num+1):\n",
    "        clean_data[j-1][i-1] = float(tmp[j])"
   ]
  },
  {
   "cell_type": "code",
   "execution_count": null,
   "metadata": {},
   "outputs": [],
   "source": [
    "df = pd.DataFrame(clean_data.T) "
   ]
  },
  {
   "cell_type": "code",
   "execution_count": null,
   "metadata": {},
   "outputs": [],
   "source": [
    "corrM = df.corr() \n",
    " \n",
    "corrM "
   ]
  },
  {
   "cell_type": "code",
   "execution_count": null,
   "metadata": {},
   "outputs": [],
   "source": [
    "sns.set(rc={'figure.figsize':(10, 10)})\n",
    "pic = sns.heatmap(corrM, xticklabels=corrM.columns, yticklabels=corrM.columns)\n",
    "pic.get_figure() .savefig(\"Correlation.png\")"
   ]
  },
  {
   "cell_type": "markdown",
   "metadata": {},
   "source": [
    "# Top 300 genes"
   ]
  },
  {
   "cell_type": "code",
   "execution_count": 66,
   "metadata": {},
   "outputs": [],
   "source": [
    "f = open(\"../gene_dif_k=80.txt\")\n",
    "top_gene_data = f.readlines()\n",
    "f.close()"
   ]
  },
  {
   "cell_type": "code",
   "execution_count": 67,
   "metadata": {},
   "outputs": [],
   "source": [
    "top_gene_num = 300"
   ]
  },
  {
   "cell_type": "code",
   "execution_count": 68,
   "metadata": {},
   "outputs": [],
   "source": [
    "clean_top_gene_data = np.zeros((archetype_num, genes_num))\n",
    "for i in range(1, genes_num+1):\n",
    "    tmp = top_gene_data[i].replace('\\n','').split(\" \")\n",
    "    for j in range(1, archetype_num+1):\n",
    "        clean_top_gene_data[j-1][i-1] = float(tmp[j])"
   ]
  },
  {
   "cell_type": "code",
   "execution_count": 69,
   "metadata": {},
   "outputs": [],
   "source": [
    "top_gene_idx = []\n",
    "for i in range(archetype_num):\n",
    "    tmp = np.sort(clean_top_gene_data[i])\n",
    "    tmp = tmp[::-1]\n",
    "    threshold = tmp[top_gene_num]\n",
    "    each_row = []\n",
    "    for j in range(genes_num):      \n",
    "        if clean_top_gene_data[i][j] > threshold:\n",
    "            each_row.append(j)\n",
    "    top_gene_idx.append(each_row)"
   ]
  },
  {
   "cell_type": "code",
   "execution_count": 70,
   "metadata": {},
   "outputs": [
    {
     "data": {
      "text/plain": [
       "(23, 300)"
      ]
     },
     "execution_count": 70,
     "metadata": {},
     "output_type": "execute_result"
    }
   ],
   "source": [
    "top_gene_idx = np.array(top_gene_idx)\n",
    "top_gene_idx.shape"
   ]
  },
  {
   "cell_type": "code",
   "execution_count": 71,
   "metadata": {},
   "outputs": [],
   "source": [
    "top_gene_matrix = np.zeros((archetype_num, archetype_num ))"
   ]
  },
  {
   "cell_type": "code",
   "execution_count": 72,
   "metadata": {},
   "outputs": [],
   "source": [
    "for i in range(archetype_num):\n",
    "    for j in range(archetype_num):\n",
    "        top_gene_matrix[i][j] = len(list(set(top_gene_idx[i]).intersection(top_gene_idx[j])))\n",
    "        "
   ]
  },
  {
   "cell_type": "code",
   "execution_count": 73,
   "metadata": {},
   "outputs": [
    {
     "data": {
      "image/png": "[encoded data removed]",
      "text/plain": [
       "<Figure size 720x720 with 2 Axes>"
      ]
     },
     "metadata": {},
     "output_type": "display_data"
    }
   ],
   "source": [
    "sns.set(rc={'figure.figsize':(10, 10)})\n",
    "pic = sns.heatmap(top_gene_matrix)\n",
    "pic.get_figure() .savefig(\"Top_gene_k=80.png\")"
   ]
  },
  {
   "cell_type": "code",
   "execution_count": null,
   "metadata": {},
   "outputs": [],
   "source": []
  }
 ],
 "metadata": {
  "kernelspec": {
   "display_name": "Python 3",
   "language": "python",
   "name": "python3"
  },
  "language_info": {
   "codemirror_mode": {
    "name": "ipython",
    "version": 3
   },
   "file_extension": ".py",
   "mimetype": "text/x-python",
   "name": "python",
   "nbconvert_exporter": "python",
   "pygments_lexer": "ipython3",
   "version": "3.8.3"
  }
 },
 "nbformat": 4,
 "nbformat_minor": 4
}
